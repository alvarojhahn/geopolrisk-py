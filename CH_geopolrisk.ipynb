{
 "cells": [
  {
   "cell_type": "code",
   "execution_count": 1,
   "id": "5172f964-23f8-4884-b1de-b562d414d8b7",
   "metadata": {},
   "outputs": [],
   "source": [
    "from geopolrisk.assessment.main import gprs_calc\n",
    "from geopolrisk.assessment.utils import regions\n",
    "from geopolrisk.assessment.database import Database"
   ]
  },
  {
   "cell_type": "code",
   "execution_count": 2,
   "id": "d8fa0b94-a941-4f2e-ad17-0a1707430820",
   "metadata": {},
   "outputs": [
    {
     "name": "stdout",
     "output_type": "stream",
     "text": [
      "Attempting to connect to database: C:\\Users\\hahnme_a\\PycharmProjects\\geopolrisk-py\\geopolrisk\\lib\\world_mining_data.db\n"
     ]
    },
    {
     "name": "stderr",
     "output_type": "stream",
     "text": [
      "\n",
      "eading table/s ['Aluminium', 'Antimony', 'Arsenic', 'Asbestos', 'Baryte', 'Bau"
     ]
    },
    {
     "name": "stdout",
     "output_type": "stream",
     "text": [
      "Attempting to connect to database: C:\\Users\\hahnme_a\\PycharmProjects\\geopolrisk-py\\geopolrisk\\lib\\wgi.db\n"
     ]
    },
    {
     "name": "stderr",
     "output_type": "stream",
     "text": [
      "\n",
      "eading table/s ['Normalized'] from the library database C:\\Users\\hahnme_a\\Pych"
     ]
    },
    {
     "name": "stdout",
     "output_type": "stream",
     "text": [
      "Attempting to connect to database: C:\\Users\\hahnme_a\\PycharmProjects\\geopolrisk-py\\geopolrisk\\lib\\baci.db\n"
     ]
    },
    {
     "name": "stderr",
     "output_type": "stream",
     "text": [
      "\n",
      "eading table/s ['baci_trade'] from the library database C:\\Users\\hahnme_a\\Pych"
     ]
    }
   ],
   "source": [
    "db = Database()\n",
    "db.initialize()"
   ]
  },
  {
   "cell_type": "code",
   "execution_count": 3,
   "id": "c9343995-6567-4c88-b5f7-c0efad334c25",
   "metadata": {},
   "outputs": [],
   "source": [
    "# MapISOdf = db.production[\"Country_ISO\"]\n",
    "# MapISOdf[\"Country\"].unique().tolist()"
   ]
  },
  {
   "cell_type": "code",
   "execution_count": 4,
   "id": "bdb50481-4108-4365-b7f0-86b45b3b59c7",
   "metadata": {},
   "outputs": [],
   "source": [
    "# db.regional = True\n",
    "# print(db.regional)"
   ]
  },
  {
   "cell_type": "code",
   "execution_count": 5,
   "id": "cdcd1085-074f-4c9a-8a9b-f7e365a6a3fa",
   "metadata": {},
   "outputs": [],
   "source": [
    "ListofMetals = [\n",
    "    260600,  # Aluminium\n",
    "    261710,  # Antimony\n",
    "    280480,  # Arsenic\n",
    "    252400,  # Asbestos\n",
    "    251110,  # Baryte\n",
    "    280450,  # Boron\n",
    "    810710,  # Cadmium\n",
    "    261000,  # Chromium\n",
    "    270111,  # Coal\n",
    "    282200,  # Cobalt\n",
    "    260300,  # Copper\n",
    "    270900,  # Crude oil\n",
    "    252910,  # Feldspar\n",
    "    252922,  # Fluorspar\n",
    "    811291,  # Gallium\n",
    "    282560,  # Germanium\n",
    "    710811,  # Gold\n",
    "    250410,  # Graphite\n",
    "    252010,  # Gypsum\n",
    "    811291,  # Indium\n",
    "    260111,  # Iron\n",
    "    260700,  # Lead\n",
    "    270112,  # Lignite\n",
    "    283691,  # Lithium\n",
    "    251910,  # Magnesium\n",
    "    260200,  # Manganese\n",
    "    280540,  # Mercury\n",
    "    261310,  # Molybdenum\n",
    "    271111,  # Natural gas\n",
    "    260400,  # Nickel\n",
    "    261590,  # Niobium\n",
    "    711021,  # Palladium\n",
    "    711011,  # Platinum\n",
    "    284690,  # Rare earth\n",
    "    811291,  # Rhenium\n",
    "    711031,  # Rhodium\n",
    "    280490,  # Selenium\n",
    "    261610,  # Silver\n",
    "    260900,  # Tin\n",
    "    261400,  # Titanium\n",
    "    261100,  # Tungsten\n",
    "    261210,  # Uranium\n",
    "    261590,  # Vanadium\n",
    "    260800,  # Zinc\n",
    "    261510,  # Zirconium\n",
    "]\n",
    "\n",
    "ListofYear = [2018, 2019, 2020, 2021, 2022]\n",
    "\n",
    "ListofCountries = [\n",
    "    757, # Switzerland\n",
    "    # \"EU\",\n",
    "]"
   ]
  },
  {
   "cell_type": "code",
   "execution_count": 6,
   "id": "771c8060-29a5-4caa-be16-3bb35bfdb27f",
   "metadata": {},
   "outputs": [],
   "source": [
    "# Extract all country codes from the 'Country_ISO' table\n",
    "try:\n",
    "    country_table = db.production[\"Country_ISO\"] \n",
    "    ListofCountries = country_table[\"ISO\"].tolist()\n",
    "except KeyError:\n",
    "    raise KeyError(\"Country_ISO table not found in db.production.\")\n",
    "except Exception as e:\n",
    "    raise RuntimeError(f\"Error extracting country codes: {e}\")"
   ]
  },
  {
   "cell_type": "code",
   "execution_count": 7,
   "id": "5cb90bff-ee14-482f-95c9-7a0571df8aa6",
   "metadata": {
    "scrolled": true
   },
   "outputs": [
    {
     "name": "stderr",
     "output_type": "stream",
     "text": [
      "\n",
      "alculating the GeoPolRisk: 100%|█| 57600/57600 [1:15:52<00:00, 12.65iterations"
     ]
    },
    {
     "name": "stdout",
     "output_type": "stream",
     "text": [
      "Results successfully saved to C:\\Users\\hahnme_a\\PycharmProjects\\geopolrisk-py\\output\\results.xlsx\n",
      "GeoPolRisk calculation completed successfully.\n"
     ]
    }
   ],
   "source": [
    "try:\n",
    "    gprs_calc(period=ListofYear, countries=ListofCountries, resources=ListofMetals, db=db)\n",
    "    print(\"GeoPolRisk calculation completed successfully.\")\n",
    "except Exception as e:\n",
    "    print(f\"Error running GeoPolRisk calculation: {e}\")"
   ]
  }
 ],
 "metadata": {
  "kernelspec": {
   "display_name": "Python 3 (ipykernel)",
   "language": "python",
   "name": "python3"
  },
  "language_info": {
   "codemirror_mode": {
    "name": "ipython",
    "version": 3
   },
   "file_extension": ".py",
   "mimetype": "text/x-python",
   "name": "python",
   "nbconvert_exporter": "python",
   "pygments_lexer": "ipython3",
   "version": "3.11.11"
  }
 },
 "nbformat": 4,
 "nbformat_minor": 5
}
